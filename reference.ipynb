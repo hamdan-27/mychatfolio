{
 "cells": [
  {
   "cell_type": "code",
   "execution_count": 1,
   "metadata": {},
   "outputs": [],
   "source": [
    "API_KEY = \"213647f5-e1ef-4b20-9205-f3c9eb02af12\""
   ]
  },
  {
   "cell_type": "markdown",
   "metadata": {},
   "source": [
    "#### Fetch Voice IDs"
   ]
  },
  {
   "cell_type": "code",
   "execution_count": 2,
   "metadata": {},
   "outputs": [
    {
     "name": "stdout",
     "output_type": "stream",
     "text": [
      "[{'id': 8933, 'voice_name': 'Monaco'}, {'id': 8934, 'voice_name': 'Billie'}, {'id': 8935, 'voice_name': 'Noor'}, {'id': 8936, 'voice_name': 'Logan'}]\n",
      "Monaco; 8933\n",
      "Billie; 8934\n",
      "Noor; 8935\n",
      "Logan; 8936\n"
     ]
    }
   ],
   "source": [
    "import requests\n",
    "import json\n",
    "\n",
    "url = \"https://client.camb.ai/apis/list_voices\"\n",
    "headers = {\"x-api-key\": API_KEY}\n",
    "response = requests.get(url, headers=headers)\n",
    "data = response.json()\n",
    "print(data)\n",
    "for voice in data:\n",
    "    print(f\"{voice['voice_name']}; {voice['id']}\")"
   ]
  },
  {
   "cell_type": "markdown",
   "metadata": {},
   "source": [
    "#### Fetch Source and Target Languages"
   ]
  },
  {
   "cell_type": "markdown",
   "metadata": {},
   "source": [
    "Source Languages"
   ]
  },
  {
   "cell_type": "code",
   "execution_count": 10,
   "metadata": {},
   "outputs": [
    {
     "name": "stdout",
     "output_type": "stream",
     "text": [
      "Source Languages:\n",
      "english (united states) (en-us)\n",
      "afrikaans (south africa) (af-za)\n",
      "amharic (ethiopia) (am-et)\n",
      "arabic (united arab emirates) (ar-ae)\n",
      "arabic (bahrain) (ar-bh)\n",
      "arabic (algeria) (ar-dz)\n",
      "arabic (egypt) (ar-eg)\n",
      "arabic (iraq) (ar-iq)\n",
      "arabic (jordan) (ar-jo)\n",
      "arabic (kuwait) (ar-kw)\n",
      "arabic (lebanon) (ar-lb)\n",
      "arabic (libya) (ar-ly)\n",
      "arabic (morocco) (ar-ma)\n",
      "arabic (oman) (ar-om)\n",
      "arabic (qatar) (ar-qa)\n",
      "arabic (saudi arabia) (ar-sa)\n",
      "arabic (syria) (ar-sy)\n",
      "arabic (tunisia) (ar-tn)\n",
      "arabic (yemen) (ar-ye)\n",
      "azerbaijani (latin, azerbaijan) (az-az)\n",
      "bulgarian (bulgaria) (bg-bg)\n",
      "bangla (bangladesh) (bn-bd)\n",
      "bengali (india) (bn-in)\n",
      "bosnian (bosnia and herzegovina) (bs-ba)\n",
      "catalan (ca-es)\n",
      "czech (czechia) (cs-cz)\n",
      "welsh (united kingdom) (cy-gb)\n",
      "danish (denmark) (da-dk)\n",
      "german (austria) (de-at)\n",
      "german (switzerland) (de-ch)\n",
      "german (germany) (de-de)\n",
      "greek (greece) (el-gr)\n",
      "english (australia) (en-au)\n",
      "english (canada) (en-ca)\n",
      "english (united kingdom) (en-gb)\n",
      "english (hong kong sar) (en-hk)\n",
      "english (ireland) (en-ie)\n",
      "english (india) (en-in)\n",
      "english (kenya) (en-ke)\n",
      "english (nigeria) (en-ng)\n",
      "english (new zealand) (en-nz)\n",
      "english (philippines) (en-ph)\n",
      "english (singapore) (en-sg)\n",
      "english (tanzania) (en-tz)\n",
      "english (south africa) (en-za)\n",
      "spanish (argentina) (es-ar)\n",
      "spanish (bolivia) (es-bo)\n",
      "spanish (chile) (es-cl)\n",
      "spanish (colombia) (es-co)\n",
      "spanish (costa rica) (es-cr)\n",
      "spanish (cuba) (es-cu)\n",
      "spanish (dominican republic) (es-do)\n",
      "spanish (ecuador) (es-ec)\n",
      "spanish (spain) (es-es)\n",
      "spanish (equatorial guinea) (es-gq)\n",
      "spanish (guatemala) (es-gt)\n",
      "spanish (honduras) (es-hn)\n",
      "spanish (mexico) (es-mx)\n",
      "spanish (nicaragua) (es-ni)\n",
      "spanish (panama) (es-pa)\n",
      "spanish (peru) (es-pe)\n",
      "spanish (puerto rico) (es-pr)\n",
      "spanish (paraguay) (es-py)\n",
      "spanish (el salvador) (es-sv)\n",
      "spanish (united states) (es-us)\n",
      "spanish (uruguay) (es-uy)\n",
      "spanish (venezuela) (es-ve)\n",
      "estonian (estonia) (et-ee)\n",
      "basque (eu-es)\n",
      "persian (iran) (fa-ir)\n",
      "finnish (finland) (fi-fi)\n",
      "french (belgium) (fr-be)\n",
      "french (canada) (fr-ca)\n",
      "french (switzerland) (fr-ch)\n",
      "french (france) (fr-fr)\n",
      "galician (gl-es)\n",
      "gujarati (india) (gu-in)\n",
      "hebrew (israel) (he-il)\n",
      "hindi (india) (hi-in)\n",
      "croatian (croatia) (hr-hr)\n",
      "hungarian (hungary) (hu-hu)\n",
      "armenian (armenia) (hy-am)\n",
      "indonesian (indonesia) (id-id)\n",
      "icelandic (iceland) (is-is)\n",
      "italian (italy) (it-it)\n",
      "japanese (japan) (ja-jp)\n",
      "georgian (georgia) (ka-ge)\n",
      "kazakh (kazakhstan) (kk-kz)\n",
      "khmer (cambodia) (km-kh)\n",
      "kannada (india) (kn-in)\n",
      "korean (korea) (ko-kr)\n",
      "lao (laos) (lo-la)\n",
      "lithuanian (lithuania) (lt-lt)\n",
      "latvian (latvia) (lv-lv)\n",
      "macedonian (north macedonia) (mk-mk)\n",
      "malayalam (india) (ml-in)\n",
      "mongolian (mongolia) (mn-mn)\n",
      "marathi (india) (mr-in)\n",
      "malay (malaysia) (ms-my)\n",
      "maltese (malta) (mt-mt)\n",
      "burmese (myanmar) (my-mm)\n",
      "nepali (nepal) (ne-np)\n",
      "dutch (belgium) (nl-be)\n",
      "dutch (netherlands) (nl-nl)\n",
      "polish (poland) (pl-pl)\n",
      "pashto (afghanistan) (ps-af)\n",
      "portuguese (brazil) (pt-br)\n",
      "portuguese (portugal) (pt-pt)\n",
      "romanian (romania) (ro-ro)\n",
      "russian (russia) (ru-ru)\n",
      "sinhala (sri lanka) (si-lk)\n",
      "slovak (slovakia) (sk-sk)\n",
      "slovenian (slovenia) (sl-si)\n",
      "somali (somalia) (so-so)\n",
      "albanian (albania) (sq-al)\n",
      "serbian (cyrillic, serbia) (sr-rs)\n",
      "sundanese (indonesia) (su-id)\n",
      "swedish (sweden) (sv-se)\n",
      "swahili (kenya) (sw-ke)\n",
      "swahili (tanzania) (sw-tz)\n",
      "tamil (india) (ta-in)\n",
      "tamil (sri lanka) (ta-lk)\n",
      "tamil (malaysia) (ta-my)\n",
      "tamil (singapore) (ta-sg)\n",
      "telugu (india) (te-in)\n",
      "thai (thailand) (th-th)\n",
      "turkish (turkey) (tr-tr)\n",
      "ukrainian (ukraine) (uk-ua)\n",
      "urdu (india) (ur-in)\n",
      "urdu (pakistan) (ur-pk)\n",
      "uzbek (latin, uzbekistan) (uz-uz)\n",
      "vietnamese (vietnam) (vi-vn)\n",
      "chinese (mandarin, simplified) (zh-cn)\n",
      "chinese (zhongyuan mandarin henan, simplified) (zh-cn-henan)\n",
      "chinese (northeastern mandarin, simplified) (zh-cn-liaoning)\n",
      "chinese (zhongyuan mandarin shaanxi, simplified) (zh-cn-shaanxi)\n",
      "chinese (jilu mandarin, simplified) (zh-cn-shandong)\n",
      "chinese (southwestern mandarin, simplified) (zh-cn-sichuan)\n",
      "chinese (cantonese, traditional) (zh-hk)\n",
      "chinese (taiwanese mandarin, traditional) (zh-tw)\n",
      "punjabi (india) (pa-in)\n"
     ]
    }
   ],
   "source": [
    "url = \"https://client.camb.ai/apis/source_languages\"\n",
    "headers = {\n",
    "    \"Accept\": \"application/json\",\n",
    "    \"x-api-key\": API_KEY\n",
    "}\n",
    "\n",
    "response = requests.get(url, headers=headers)\n",
    "data = response.json()\n",
    "print(\"Source Languages:\")\n",
    "for language in data:\n",
    "    print(f\"{language['language']} ({language['short_name']})\")"
   ]
  },
  {
   "cell_type": "markdown",
   "metadata": {},
   "source": [
    "Target Languages"
   ]
  },
  {
   "cell_type": "code",
   "execution_count": 11,
   "metadata": {},
   "outputs": [
    {
     "name": "stdout",
     "output_type": "stream",
     "text": [
      "Target Languages:\n",
      "english (united states) (en-us)\n",
      "afrikaans (south africa) (af-za)\n",
      "amharic (ethiopia) (am-et)\n",
      "arabic (united arab emirates) (ar-ae)\n",
      "arabic (bahrain) (ar-bh)\n",
      "arabic (algeria) (ar-dz)\n",
      "arabic (egypt) (ar-eg)\n",
      "arabic (iraq) (ar-iq)\n",
      "arabic (jordan) (ar-jo)\n",
      "arabic (kuwait) (ar-kw)\n",
      "arabic (lebanon) (ar-lb)\n",
      "arabic (libya) (ar-ly)\n",
      "arabic (morocco) (ar-ma)\n",
      "arabic (oman) (ar-om)\n",
      "arabic (qatar) (ar-qa)\n",
      "arabic (saudi arabia) (ar-sa)\n",
      "arabic (syria) (ar-sy)\n",
      "arabic (tunisia) (ar-tn)\n",
      "arabic (yemen) (ar-ye)\n",
      "azerbaijani (latin, azerbaijan) (az-az)\n",
      "bulgarian (bulgaria) (bg-bg)\n",
      "bangla (bangladesh) (bn-bd)\n",
      "bengali (india) (bn-in)\n",
      "bosnian (bosnia and herzegovina) (bs-ba)\n",
      "catalan (ca-es)\n",
      "czech (czechia) (cs-cz)\n",
      "welsh (united kingdom) (cy-gb)\n",
      "danish (denmark) (da-dk)\n",
      "german (austria) (de-at)\n",
      "german (switzerland) (de-ch)\n",
      "german (germany) (de-de)\n",
      "greek (greece) (el-gr)\n",
      "english (australia) (en-au)\n",
      "english (canada) (en-ca)\n",
      "english (united kingdom) (en-gb)\n",
      "english (hong kong sar) (en-hk)\n",
      "english (ireland) (en-ie)\n",
      "english (india) (en-in)\n",
      "english (kenya) (en-ke)\n",
      "english (nigeria) (en-ng)\n",
      "english (new zealand) (en-nz)\n",
      "english (philippines) (en-ph)\n",
      "english (singapore) (en-sg)\n",
      "english (tanzania) (en-tz)\n",
      "english (south africa) (en-za)\n",
      "spanish (argentina) (es-ar)\n",
      "spanish (bolivia) (es-bo)\n",
      "spanish (chile) (es-cl)\n",
      "spanish (colombia) (es-co)\n",
      "spanish (costa rica) (es-cr)\n",
      "spanish (cuba) (es-cu)\n",
      "spanish (dominican republic) (es-do)\n",
      "spanish (ecuador) (es-ec)\n",
      "spanish (spain) (es-es)\n",
      "spanish (equatorial guinea) (es-gq)\n",
      "spanish (guatemala) (es-gt)\n",
      "spanish (honduras) (es-hn)\n",
      "spanish (mexico) (es-mx)\n",
      "spanish (nicaragua) (es-ni)\n",
      "spanish (panama) (es-pa)\n",
      "spanish (peru) (es-pe)\n",
      "spanish (puerto rico) (es-pr)\n",
      "spanish (paraguay) (es-py)\n",
      "spanish (el salvador) (es-sv)\n",
      "spanish (united states) (es-us)\n",
      "spanish (uruguay) (es-uy)\n",
      "spanish (venezuela) (es-ve)\n",
      "estonian (estonia) (et-ee)\n",
      "basque (eu-es)\n",
      "persian (iran) (fa-ir)\n",
      "finnish (finland) (fi-fi)\n",
      "filipino (philippines) (fil-ph)\n",
      "french (belgium) (fr-be)\n",
      "french (canada) (fr-ca)\n",
      "french (switzerland) (fr-ch)\n",
      "french (france) (fr-fr)\n",
      "irish (ireland) (ga-ie)\n",
      "galician (gl-es)\n",
      "gujarati (india) (gu-in)\n",
      "hebrew (israel) (he-il)\n",
      "hindi (india) (hi-in)\n",
      "croatian (croatia) (hr-hr)\n",
      "hungarian (hungary) (hu-hu)\n",
      "armenian (armenia) (hy-am)\n",
      "indonesian (indonesia) (id-id)\n",
      "icelandic (iceland) (is-is)\n",
      "italian (italy) (it-it)\n",
      "japanese (japan) (ja-jp)\n",
      "javanese (latin, indonesia) (jv-id)\n",
      "georgian (georgia) (ka-ge)\n",
      "kazakh (kazakhstan) (kk-kz)\n",
      "khmer (cambodia) (km-kh)\n",
      "kannada (india) (kn-in)\n",
      "korean (korea) (ko-kr)\n",
      "lao (laos) (lo-la)\n",
      "lithuanian (lithuania) (lt-lt)\n",
      "latvian (latvia) (lv-lv)\n",
      "macedonian (north macedonia) (mk-mk)\n",
      "malayalam (india) (ml-in)\n",
      "mongolian (mongolia) (mn-mn)\n",
      "marathi (india) (mr-in)\n",
      "malay (malaysia) (ms-my)\n",
      "maltese (malta) (mt-mt)\n",
      "burmese (myanmar) (my-mm)\n",
      "norwegian (bokmål, norway) (nb-no)\n",
      "nepali (nepal) (ne-np)\n",
      "dutch (belgium) (nl-be)\n",
      "dutch (netherlands) (nl-nl)\n",
      "polish (poland) (pl-pl)\n",
      "pashto (afghanistan) (ps-af)\n",
      "portuguese (brazil) (pt-br)\n",
      "portuguese (portugal) (pt-pt)\n",
      "romanian (romania) (ro-ro)\n",
      "russian (russia) (ru-ru)\n",
      "sinhala (sri lanka) (si-lk)\n",
      "slovak (slovakia) (sk-sk)\n",
      "slovenian (slovenia) (sl-si)\n",
      "somali (somalia) (so-so)\n",
      "albanian (albania) (sq-al)\n",
      "serbian (cyrillic, serbia) (sr-rs)\n",
      "sundanese (indonesia) (su-id)\n",
      "swedish (sweden) (sv-se)\n",
      "swahili (kenya) (sw-ke)\n",
      "swahili (tanzania) (sw-tz)\n",
      "tamil (india) (ta-in)\n",
      "tamil (sri lanka) (ta-lk)\n",
      "tamil (malaysia) (ta-my)\n",
      "tamil (singapore) (ta-sg)\n",
      "telugu (india) (te-in)\n",
      "thai (thailand) (th-th)\n",
      "turkish (turkey) (tr-tr)\n",
      "ukrainian (ukraine) (uk-ua)\n",
      "urdu (india) (ur-in)\n",
      "urdu (pakistan) (ur-pk)\n",
      "uzbek (latin, uzbekistan) (uz-uz)\n",
      "vietnamese (vietnam) (vi-vn)\n",
      "chinese (mandarin, simplified) (zh-cn)\n",
      "chinese (zhongyuan mandarin henan, simplified) (zh-cn-henan)\n",
      "chinese (northeastern mandarin, simplified) (zh-cn-liaoning)\n",
      "chinese (zhongyuan mandarin shaanxi, simplified) (zh-cn-shaanxi)\n",
      "chinese (jilu mandarin, simplified) (zh-cn-shandong)\n",
      "chinese (southwestern mandarin, simplified) (zh-cn-sichuan)\n",
      "chinese (cantonese, traditional) (zh-hk)\n",
      "chinese (taiwanese mandarin, traditional) (zh-tw)\n",
      "zulu (south africa) (zu-za)\n",
      "punjabi (india) (pa-in)\n"
     ]
    }
   ],
   "source": [
    "url = \"https://client.camb.ai/apis/target_languages\"\n",
    "headers = {\n",
    "    \"Accept\": \"application/json\",\n",
    "    \"x-api-key\": API_KEY\n",
    "}\n",
    "\n",
    "response = requests.get(url, headers=headers)\n",
    "data = response.json()\n",
    "\n",
    "print(\"Target Languages:\")\n",
    "for language in data:\n",
    "  print(f\"{language['language']} ({language['short_name']})\")"
   ]
  },
  {
   "cell_type": "markdown",
   "metadata": {},
   "source": [
    "#### Specify Gender"
   ]
  },
  {
   "cell_type": "code",
   "execution_count": 12,
   "metadata": {},
   "outputs": [],
   "source": [
    "NOT_KNOWN = 0\n",
    "MALE = 1\n",
    "FEMALE = 2\n",
    "NOT_APPLICABLE = 9"
   ]
  },
  {
   "cell_type": "markdown",
   "metadata": {},
   "source": [
    "#### TTS Endpoint"
   ]
  },
  {
   "cell_type": "code",
   "execution_count": 3,
   "metadata": {},
   "outputs": [
    {
     "name": "stdout",
     "output_type": "stream",
     "text": [
      "{'detail': [{'type': 'int_parsing', 'loc': ['body', 'voice_id'], 'msg': 'Input should be a valid integer, unable to parse string as an integer', 'input': 'voice_id_here'}]}\n"
     ]
    },
    {
     "ename": "KeyError",
     "evalue": "'payload'",
     "output_type": "error",
     "traceback": [
      "\u001b[1;31m---------------------------------------------------------------------------\u001b[0m",
      "\u001b[1;31mKeyError\u001b[0m                                  Traceback (most recent call last)",
      "Cell \u001b[1;32mIn[3], line 20\u001b[0m\n\u001b[0;32m     18\u001b[0m \u001b[38;5;66;03m# The response will contain a task_id which you can use to track the status of your TTS request\u001b[39;00m\n\u001b[0;32m     19\u001b[0m \u001b[38;5;28mprint\u001b[39m(response_data)\n\u001b[1;32m---> 20\u001b[0m task_id \u001b[38;5;241m=\u001b[39m \u001b[43mresponse_data\u001b[49m\u001b[43m[\u001b[49m\u001b[38;5;124;43m\"\u001b[39;49m\u001b[38;5;124;43mpayload\u001b[39;49m\u001b[38;5;124;43m\"\u001b[39;49m\u001b[43m]\u001b[49m[\u001b[38;5;124m\"\u001b[39m\u001b[38;5;124mtask_id\u001b[39m\u001b[38;5;124m\"\u001b[39m]\n",
      "\u001b[1;31mKeyError\u001b[0m: 'payload'"
     ]
    }
   ],
   "source": [
    "url = \"https://client.camb.ai/apis/tts\"\n",
    "headers = {\n",
    "    \"Accept\": \"application/json\",\n",
    "    \"x-api-key\": API_KEY,\n",
    "    \"Content-Type\": \"application/json\"\n",
    "}\n",
    "payload = {\n",
    "    \"text\": \"Hello World!\",\n",
    "    \"voice_id\": \"voice_id_here\",  # Replace with actual voice_id\n",
    "    \"language\": 1,  # Language ID, e.g., 1 for English\n",
    "    \"gender\": 1,    # Gender enum, e.g., 1 for Male\n",
    "    \"age\": 0        # Age parameter, e.g., 0 for default\n",
    "}\n",
    "\n",
    "response = requests.post(url, headers=headers, json=payload)\n",
    "response_data = response.json()\n",
    "\n",
    "# The response will contain a task_id which you can use to track the status of your TTS request\n",
    "print(response_data)\n",
    "task_id = response_data[\"payload\"][\"task_id\"]"
   ]
  },
  {
   "cell_type": "code",
   "execution_count": null,
   "metadata": {},
   "outputs": [],
   "source": [
    "url = \"https://client.camb.ai/apis/tts\"\n",
    "\n",
    "payload = {\n",
    "    \"text\": \"<string>\",\n",
    "    \"voice_id\": 8936,\n",
    "    \"language\": 1,\n",
    "    \"gender\": 1,\n",
    "    \"age\": 21\n",
    "}\n",
    "headers = {\n",
    "    \"x-api-key\": \"<api-key>\",\n",
    "    \"Content-Type\": \"application/json\"\n",
    "}\n",
    "\n",
    "response = requests.request(\"POST\", url, json=payload, headers=headers)\n",
    "\n",
    "print(response.text)"
   ]
  },
  {
   "cell_type": "code",
   "execution_count": 7,
   "metadata": {},
   "outputs": [
    {
     "name": "stdout",
     "output_type": "stream",
     "text": [
      "422\n",
      "{'detail': [{'type': 'enum', 'loc': ['body', 'gender'], 'msg': 'Input should be 0, 1, 2 or 9', 'input': 38, 'ctx': {'expected': '0, 1, 2 or 9'}}]}\n"
     ]
    }
   ],
   "source": [
    "import requests\n",
    "import streamlit as st\n",
    "import os\n",
    "import time\n",
    "from dotenv import load_dotenv\n",
    "\n",
    "load_dotenv()\n",
    "\n",
    "BASE_URL = \"https://client.camb.ai/apis\"\n",
    "API_KEY = st.secrets['camb-ai-key']\n",
    "HEADERS = {\"headers\": {\"x-api-key\": API_KEY}}\n",
    "\n",
    "tts_payload = {\n",
    "    \"text\": \"Hello my name is Hamdan Mohammad\",\n",
    "    \"voice_id\": 8936,\n",
    "    \"language\": 38,\n",
    "    \"gender\": 1,\n",
    "    \"age\": 21\n",
    "}\n",
    "\n",
    "res = requests.post(f\"{BASE_URL}/tts\", json=tts_payload, **HEADERS)\n",
    "print(res.status_code)\n",
    "print(res.json())\n"
   ]
  },
  {
   "cell_type": "code",
   "execution_count": null,
   "metadata": {},
   "outputs": [],
   "source": [
    "task_id = res.json()[\"task_id\"]\n",
    "print(f\"Task ID: {task_id}\")\n",
    "\n",
    "while True:\n",
    "    res = requests.get(f\"{BASE_URL}/tts/{task_id}\", **HEADERS)\n",
    "    status = res.json()[\"status\"]\n",
    "    print(f\"Polling: {status}\")\n",
    "    time.sleep(1.5)\n",
    "    if status == \"SUCCESS\":\n",
    "        run_id = res.json()[\"run_id\"]\n",
    "        break\n",
    "\n",
    "print(f\"Run ID: {run_id}\")\n",
    "res = requests.get(f\"{BASE_URL}/tts_result/{run_id}\", **HEADERS, stream=True)\n",
    "with open(\"tts_output.wav\", \"wb\") as f:\n",
    "    for chunk in res.iter_content(chunk_size=1024):\n",
    "        f.write(chunk)\n",
    "print(\"Done!\")"
   ]
  },
  {
   "cell_type": "code",
   "execution_count": null,
   "metadata": {},
   "outputs": [],
   "source": [
    "\n"
   ]
  },
  {
   "cell_type": "code",
   "execution_count": null,
   "metadata": {},
   "outputs": [],
   "source": []
  },
  {
   "cell_type": "code",
   "execution_count": 3,
   "metadata": {},
   "outputs": [
    {
     "name": "stdout",
     "output_type": "stream",
     "text": [
      "Done!\n"
     ]
    }
   ],
   "source": [
    "import requests\n",
    "import os\n",
    "import time\n",
    "from dotenv import load_dotenv\n",
    "\n",
    "load_dotenv()\n",
    "\n",
    "BASE_URL = \"https://client.camb.ai/apis\"\n",
    "API_KEY = os.getenv(\"API_KEY\")\n",
    "HEADERS = {\"headers\": {\"x-api-key\": API_KEY}}\n",
    "res = requests.get(f\"{BASE_URL}/tts_result/10283\", **HEADERS, stream=True)\n",
    "with open(\"tts_output.wav\", \"wb\") as f:\n",
    "    for chunk in res.iter_content(chunk_size=1024):\n",
    "        f.write(chunk)\n",
    "print(\"Done!\")"
   ]
  },
  {
   "cell_type": "code",
   "execution_count": 6,
   "metadata": {},
   "outputs": [
    {
     "ename": "StreamConsumedError",
     "evalue": "",
     "output_type": "error",
     "traceback": [
      "\u001b[1;31m---------------------------------------------------------------------------\u001b[0m",
      "\u001b[1;31mStreamConsumedError\u001b[0m                       Traceback (most recent call last)",
      "Cell \u001b[1;32mIn[6], line 2\u001b[0m\n\u001b[0;32m      1\u001b[0m audio \u001b[38;5;241m=\u001b[39m \u001b[38;5;28;01mNone\u001b[39;00m\n\u001b[1;32m----> 2\u001b[0m \u001b[38;5;28;01mfor\u001b[39;00m chunk \u001b[38;5;129;01min\u001b[39;00m \u001b[43mres\u001b[49m\u001b[38;5;241;43m.\u001b[39;49m\u001b[43miter_content\u001b[49m\u001b[43m(\u001b[49m\u001b[43mchunk_size\u001b[49m\u001b[38;5;241;43m=\u001b[39;49m\u001b[38;5;241;43m1024\u001b[39;49m\u001b[43m)\u001b[49m:\n\u001b[0;32m      3\u001b[0m     audio \u001b[38;5;241m+\u001b[39m\u001b[38;5;241m=\u001b[39m chunk\n\u001b[0;32m      5\u001b[0m audio\n",
      "File \u001b[1;32mc:\\Users\\ga201\\anaconda3\\envs\\chatfolio\\Lib\\site-packages\\requests\\models.py:836\u001b[0m, in \u001b[0;36mResponse.iter_content\u001b[1;34m(self, chunk_size, decode_unicode)\u001b[0m\n\u001b[0;32m    833\u001b[0m     \u001b[38;5;28mself\u001b[39m\u001b[38;5;241m.\u001b[39m_content_consumed \u001b[38;5;241m=\u001b[39m \u001b[38;5;28;01mTrue\u001b[39;00m\n\u001b[0;32m    835\u001b[0m \u001b[38;5;28;01mif\u001b[39;00m \u001b[38;5;28mself\u001b[39m\u001b[38;5;241m.\u001b[39m_content_consumed \u001b[38;5;129;01mand\u001b[39;00m \u001b[38;5;28misinstance\u001b[39m(\u001b[38;5;28mself\u001b[39m\u001b[38;5;241m.\u001b[39m_content, \u001b[38;5;28mbool\u001b[39m):\n\u001b[1;32m--> 836\u001b[0m     \u001b[38;5;28;01mraise\u001b[39;00m StreamConsumedError()\n\u001b[0;32m    837\u001b[0m \u001b[38;5;28;01melif\u001b[39;00m chunk_size \u001b[38;5;129;01mis\u001b[39;00m \u001b[38;5;129;01mnot\u001b[39;00m \u001b[38;5;28;01mNone\u001b[39;00m \u001b[38;5;129;01mand\u001b[39;00m \u001b[38;5;129;01mnot\u001b[39;00m \u001b[38;5;28misinstance\u001b[39m(chunk_size, \u001b[38;5;28mint\u001b[39m):\n\u001b[0;32m    838\u001b[0m     \u001b[38;5;28;01mraise\u001b[39;00m \u001b[38;5;167;01mTypeError\u001b[39;00m(\n\u001b[0;32m    839\u001b[0m         \u001b[38;5;124mf\u001b[39m\u001b[38;5;124m\"\u001b[39m\u001b[38;5;124mchunk_size must be an int, it is instead a \u001b[39m\u001b[38;5;132;01m{\u001b[39;00m\u001b[38;5;28mtype\u001b[39m(chunk_size)\u001b[38;5;132;01m}\u001b[39;00m\u001b[38;5;124m.\u001b[39m\u001b[38;5;124m\"\u001b[39m\n\u001b[0;32m    840\u001b[0m     )\n",
      "\u001b[1;31mStreamConsumedError\u001b[0m: "
     ]
    }
   ],
   "source": [
    "audio = None\n",
    "for chunk in res.iter_content(chunk_size=1024):\n",
    "    audio += chunk\n",
    "\n",
    "audio"
   ]
  },
  {
   "cell_type": "code",
   "execution_count": 8,
   "metadata": {},
   "outputs": [
    {
     "ename": "RuntimeError",
     "evalue": "The content for this response was already consumed",
     "output_type": "error",
     "traceback": [
      "\u001b[1;31m---------------------------------------------------------------------------\u001b[0m",
      "\u001b[1;31mRuntimeError\u001b[0m                              Traceback (most recent call last)",
      "Cell \u001b[1;32mIn[8], line 1\u001b[0m\n\u001b[1;32m----> 1\u001b[0m \u001b[43mres\u001b[49m\u001b[38;5;241;43m.\u001b[39;49m\u001b[43mtext\u001b[49m\n",
      "File \u001b[1;32mc:\\Users\\ga201\\anaconda3\\envs\\chatfolio\\Lib\\site-packages\\requests\\models.py:923\u001b[0m, in \u001b[0;36mResponse.text\u001b[1;34m(self)\u001b[0m\n\u001b[0;32m    920\u001b[0m content \u001b[38;5;241m=\u001b[39m \u001b[38;5;28;01mNone\u001b[39;00m\n\u001b[0;32m    921\u001b[0m encoding \u001b[38;5;241m=\u001b[39m \u001b[38;5;28mself\u001b[39m\u001b[38;5;241m.\u001b[39mencoding\n\u001b[1;32m--> 923\u001b[0m \u001b[38;5;28;01mif\u001b[39;00m \u001b[38;5;129;01mnot\u001b[39;00m \u001b[38;5;28;43mself\u001b[39;49m\u001b[38;5;241;43m.\u001b[39;49m\u001b[43mcontent\u001b[49m:\n\u001b[0;32m    924\u001b[0m     \u001b[38;5;28;01mreturn\u001b[39;00m \u001b[38;5;124m\"\u001b[39m\u001b[38;5;124m\"\u001b[39m\n\u001b[0;32m    926\u001b[0m \u001b[38;5;66;03m# Fallback to auto-detected encoding.\u001b[39;00m\n",
      "File \u001b[1;32mc:\\Users\\ga201\\anaconda3\\envs\\chatfolio\\Lib\\site-packages\\requests\\models.py:894\u001b[0m, in \u001b[0;36mResponse.content\u001b[1;34m(self)\u001b[0m\n\u001b[0;32m    891\u001b[0m \u001b[38;5;28;01mif\u001b[39;00m \u001b[38;5;28mself\u001b[39m\u001b[38;5;241m.\u001b[39m_content \u001b[38;5;129;01mis\u001b[39;00m \u001b[38;5;28;01mFalse\u001b[39;00m:\n\u001b[0;32m    892\u001b[0m     \u001b[38;5;66;03m# Read the contents.\u001b[39;00m\n\u001b[0;32m    893\u001b[0m     \u001b[38;5;28;01mif\u001b[39;00m \u001b[38;5;28mself\u001b[39m\u001b[38;5;241m.\u001b[39m_content_consumed:\n\u001b[1;32m--> 894\u001b[0m         \u001b[38;5;28;01mraise\u001b[39;00m \u001b[38;5;167;01mRuntimeError\u001b[39;00m(\u001b[38;5;124m\"\u001b[39m\u001b[38;5;124mThe content for this response was already consumed\u001b[39m\u001b[38;5;124m\"\u001b[39m)\n\u001b[0;32m    896\u001b[0m     \u001b[38;5;28;01mif\u001b[39;00m \u001b[38;5;28mself\u001b[39m\u001b[38;5;241m.\u001b[39mstatus_code \u001b[38;5;241m==\u001b[39m \u001b[38;5;241m0\u001b[39m \u001b[38;5;129;01mor\u001b[39;00m \u001b[38;5;28mself\u001b[39m\u001b[38;5;241m.\u001b[39mraw \u001b[38;5;129;01mis\u001b[39;00m \u001b[38;5;28;01mNone\u001b[39;00m:\n\u001b[0;32m    897\u001b[0m         \u001b[38;5;28mself\u001b[39m\u001b[38;5;241m.\u001b[39m_content \u001b[38;5;241m=\u001b[39m \u001b[38;5;28;01mNone\u001b[39;00m\n",
      "\u001b[1;31mRuntimeError\u001b[0m: The content for this response was already consumed"
     ]
    }
   ],
   "source": [
    "res.text"
   ]
  },
  {
   "cell_type": "code",
   "execution_count": 11,
   "metadata": {},
   "outputs": [],
   "source": [
    "def get_tts(text):\n",
    "    tts_payload = {\n",
    "        \"text\": text,\n",
    "        \"voice_id\": 8936,\n",
    "        \"language\": 1,\n",
    "        \"gender\": 1,\n",
    "        \"age\": 21\n",
    "    }\n",
    "\n",
    "\n",
    "    res = requests.post(f\"{BASE_URL}/tts\", json=tts_payload, **HEADERS)\n",
    "    task_id = res.json().task_id\n",
    "    print(f\"Task ID: {task_id}\")\n",
    "\n",
    "    while True:\n",
    "        res = requests.get(f\"{BASE_URL}/tts/{task_id}\", **HEADERS)\n",
    "        status = res.json()[\"status\"]\n",
    "        print(f\"Polling: {status}\")\n",
    "        time.sleep(1.5)\n",
    "        if status == \"SUCCESS\":\n",
    "            run_id = res.json()[\"run_id\"]\n",
    "            break\n",
    "\n",
    "    print(f\"Run ID: {run_id}\")\n",
    "    res = requests.get(f\"{BASE_URL}/tts_result/{run_id}\", **HEADERS, stream=True)\n",
    "    audio = res.content\n",
    "    with open(\"tts_output.wav\", \"wb\") as f:\n",
    "        for chunk in res.iter_content(chunk_size=1024):\n",
    "            f.write(chunk)\n",
    "    print(\"Done!\")\n",
    "    return audio"
   ]
  },
  {
   "cell_type": "code",
   "execution_count": 12,
   "metadata": {},
   "outputs": [
    {
     "ename": "JSONDecodeError",
     "evalue": "Expecting value: line 1 column 1 (char 0)",
     "output_type": "error",
     "traceback": [
      "\u001b[1;31m---------------------------------------------------------------------------\u001b[0m",
      "\u001b[1;31mJSONDecodeError\u001b[0m                           Traceback (most recent call last)",
      "File \u001b[1;32mc:\\Users\\ga201\\anaconda3\\envs\\chatfolio\\Lib\\site-packages\\requests\\models.py:971\u001b[0m, in \u001b[0;36mResponse.json\u001b[1;34m(self, **kwargs)\u001b[0m\n\u001b[0;32m    970\u001b[0m \u001b[38;5;28;01mtry\u001b[39;00m:\n\u001b[1;32m--> 971\u001b[0m     \u001b[38;5;28;01mreturn\u001b[39;00m \u001b[43mcomplexjson\u001b[49m\u001b[38;5;241;43m.\u001b[39;49m\u001b[43mloads\u001b[49m\u001b[43m(\u001b[49m\u001b[38;5;28;43mself\u001b[39;49m\u001b[38;5;241;43m.\u001b[39;49m\u001b[43mtext\u001b[49m\u001b[43m,\u001b[49m\u001b[43m \u001b[49m\u001b[38;5;241;43m*\u001b[39;49m\u001b[38;5;241;43m*\u001b[39;49m\u001b[43mkwargs\u001b[49m\u001b[43m)\u001b[49m\n\u001b[0;32m    972\u001b[0m \u001b[38;5;28;01mexcept\u001b[39;00m JSONDecodeError \u001b[38;5;28;01mas\u001b[39;00m e:\n\u001b[0;32m    973\u001b[0m     \u001b[38;5;66;03m# Catch JSON-related errors and raise as requests.JSONDecodeError\u001b[39;00m\n\u001b[0;32m    974\u001b[0m     \u001b[38;5;66;03m# This aliases json.JSONDecodeError and simplejson.JSONDecodeError\u001b[39;00m\n",
      "File \u001b[1;32mc:\\Users\\ga201\\anaconda3\\envs\\chatfolio\\Lib\\json\\__init__.py:346\u001b[0m, in \u001b[0;36mloads\u001b[1;34m(s, cls, object_hook, parse_float, parse_int, parse_constant, object_pairs_hook, **kw)\u001b[0m\n\u001b[0;32m    343\u001b[0m \u001b[38;5;28;01mif\u001b[39;00m (\u001b[38;5;28mcls\u001b[39m \u001b[38;5;129;01mis\u001b[39;00m \u001b[38;5;28;01mNone\u001b[39;00m \u001b[38;5;129;01mand\u001b[39;00m object_hook \u001b[38;5;129;01mis\u001b[39;00m \u001b[38;5;28;01mNone\u001b[39;00m \u001b[38;5;129;01mand\u001b[39;00m\n\u001b[0;32m    344\u001b[0m         parse_int \u001b[38;5;129;01mis\u001b[39;00m \u001b[38;5;28;01mNone\u001b[39;00m \u001b[38;5;129;01mand\u001b[39;00m parse_float \u001b[38;5;129;01mis\u001b[39;00m \u001b[38;5;28;01mNone\u001b[39;00m \u001b[38;5;129;01mand\u001b[39;00m\n\u001b[0;32m    345\u001b[0m         parse_constant \u001b[38;5;129;01mis\u001b[39;00m \u001b[38;5;28;01mNone\u001b[39;00m \u001b[38;5;129;01mand\u001b[39;00m object_pairs_hook \u001b[38;5;129;01mis\u001b[39;00m \u001b[38;5;28;01mNone\u001b[39;00m \u001b[38;5;129;01mand\u001b[39;00m \u001b[38;5;129;01mnot\u001b[39;00m kw):\n\u001b[1;32m--> 346\u001b[0m     \u001b[38;5;28;01mreturn\u001b[39;00m \u001b[43m_default_decoder\u001b[49m\u001b[38;5;241;43m.\u001b[39;49m\u001b[43mdecode\u001b[49m\u001b[43m(\u001b[49m\u001b[43ms\u001b[49m\u001b[43m)\u001b[49m\n\u001b[0;32m    347\u001b[0m \u001b[38;5;28;01mif\u001b[39;00m \u001b[38;5;28mcls\u001b[39m \u001b[38;5;129;01mis\u001b[39;00m \u001b[38;5;28;01mNone\u001b[39;00m:\n",
      "File \u001b[1;32mc:\\Users\\ga201\\anaconda3\\envs\\chatfolio\\Lib\\json\\decoder.py:337\u001b[0m, in \u001b[0;36mJSONDecoder.decode\u001b[1;34m(self, s, _w)\u001b[0m\n\u001b[0;32m    333\u001b[0m \u001b[38;5;250m\u001b[39m\u001b[38;5;124;03m\"\"\"Return the Python representation of ``s`` (a ``str`` instance\u001b[39;00m\n\u001b[0;32m    334\u001b[0m \u001b[38;5;124;03mcontaining a JSON document).\u001b[39;00m\n\u001b[0;32m    335\u001b[0m \n\u001b[0;32m    336\u001b[0m \u001b[38;5;124;03m\"\"\"\u001b[39;00m\n\u001b[1;32m--> 337\u001b[0m obj, end \u001b[38;5;241m=\u001b[39m \u001b[38;5;28;43mself\u001b[39;49m\u001b[38;5;241;43m.\u001b[39;49m\u001b[43mraw_decode\u001b[49m\u001b[43m(\u001b[49m\u001b[43ms\u001b[49m\u001b[43m,\u001b[49m\u001b[43m \u001b[49m\u001b[43midx\u001b[49m\u001b[38;5;241;43m=\u001b[39;49m\u001b[43m_w\u001b[49m\u001b[43m(\u001b[49m\u001b[43ms\u001b[49m\u001b[43m,\u001b[49m\u001b[43m \u001b[49m\u001b[38;5;241;43m0\u001b[39;49m\u001b[43m)\u001b[49m\u001b[38;5;241;43m.\u001b[39;49m\u001b[43mend\u001b[49m\u001b[43m(\u001b[49m\u001b[43m)\u001b[49m\u001b[43m)\u001b[49m\n\u001b[0;32m    338\u001b[0m end \u001b[38;5;241m=\u001b[39m _w(s, end)\u001b[38;5;241m.\u001b[39mend()\n",
      "File \u001b[1;32mc:\\Users\\ga201\\anaconda3\\envs\\chatfolio\\Lib\\json\\decoder.py:355\u001b[0m, in \u001b[0;36mJSONDecoder.raw_decode\u001b[1;34m(self, s, idx)\u001b[0m\n\u001b[0;32m    354\u001b[0m \u001b[38;5;28;01mexcept\u001b[39;00m \u001b[38;5;167;01mStopIteration\u001b[39;00m \u001b[38;5;28;01mas\u001b[39;00m err:\n\u001b[1;32m--> 355\u001b[0m     \u001b[38;5;28;01mraise\u001b[39;00m JSONDecodeError(\u001b[38;5;124m\"\u001b[39m\u001b[38;5;124mExpecting value\u001b[39m\u001b[38;5;124m\"\u001b[39m, s, err\u001b[38;5;241m.\u001b[39mvalue) \u001b[38;5;28;01mfrom\u001b[39;00m \u001b[38;5;28;01mNone\u001b[39;00m\n\u001b[0;32m    356\u001b[0m \u001b[38;5;28;01mreturn\u001b[39;00m obj, end\n",
      "\u001b[1;31mJSONDecodeError\u001b[0m: Expecting value: line 1 column 1 (char 0)",
      "\nDuring handling of the above exception, another exception occurred:\n",
      "\u001b[1;31mJSONDecodeError\u001b[0m                           Traceback (most recent call last)",
      "Cell \u001b[1;32mIn[12], line 1\u001b[0m\n\u001b[1;32m----> 1\u001b[0m audio \u001b[38;5;241m=\u001b[39m \u001b[43mget_tts\u001b[49m\u001b[43m(\u001b[49m\u001b[38;5;124;43m\"\u001b[39;49m\u001b[38;5;124;43mHello my name is Hamdan Mohammad\u001b[39;49m\u001b[38;5;124;43m\"\u001b[39;49m\u001b[43m)\u001b[49m\n",
      "Cell \u001b[1;32mIn[11], line 12\u001b[0m, in \u001b[0;36mget_tts\u001b[1;34m(text)\u001b[0m\n\u001b[0;32m      2\u001b[0m tts_payload \u001b[38;5;241m=\u001b[39m {\n\u001b[0;32m      3\u001b[0m     \u001b[38;5;124m\"\u001b[39m\u001b[38;5;124mtext\u001b[39m\u001b[38;5;124m\"\u001b[39m: text,\n\u001b[0;32m      4\u001b[0m     \u001b[38;5;124m\"\u001b[39m\u001b[38;5;124mvoice_id\u001b[39m\u001b[38;5;124m\"\u001b[39m: \u001b[38;5;241m8936\u001b[39m,\n\u001b[1;32m   (...)\u001b[0m\n\u001b[0;32m      7\u001b[0m     \u001b[38;5;124m\"\u001b[39m\u001b[38;5;124mage\u001b[39m\u001b[38;5;124m\"\u001b[39m: \u001b[38;5;241m21\u001b[39m\n\u001b[0;32m      8\u001b[0m }\n\u001b[0;32m     11\u001b[0m res \u001b[38;5;241m=\u001b[39m requests\u001b[38;5;241m.\u001b[39mpost(\u001b[38;5;124mf\u001b[39m\u001b[38;5;124m\"\u001b[39m\u001b[38;5;132;01m{\u001b[39;00mBASE_URL\u001b[38;5;132;01m}\u001b[39;00m\u001b[38;5;124m/tts\u001b[39m\u001b[38;5;124m\"\u001b[39m, json\u001b[38;5;241m=\u001b[39mtts_payload, \u001b[38;5;241m*\u001b[39m\u001b[38;5;241m*\u001b[39mHEADERS)\n\u001b[1;32m---> 12\u001b[0m task_id \u001b[38;5;241m=\u001b[39m \u001b[43mres\u001b[49m\u001b[38;5;241;43m.\u001b[39;49m\u001b[43mjson\u001b[49m\u001b[43m(\u001b[49m\u001b[43m)\u001b[49m\u001b[38;5;241m.\u001b[39mtask_id\n\u001b[0;32m     13\u001b[0m \u001b[38;5;28mprint\u001b[39m(\u001b[38;5;124mf\u001b[39m\u001b[38;5;124m\"\u001b[39m\u001b[38;5;124mTask ID: \u001b[39m\u001b[38;5;132;01m{\u001b[39;00mtask_id\u001b[38;5;132;01m}\u001b[39;00m\u001b[38;5;124m\"\u001b[39m)\n\u001b[0;32m     15\u001b[0m \u001b[38;5;28;01mwhile\u001b[39;00m \u001b[38;5;28;01mTrue\u001b[39;00m:\n",
      "File \u001b[1;32mc:\\Users\\ga201\\anaconda3\\envs\\chatfolio\\Lib\\site-packages\\requests\\models.py:975\u001b[0m, in \u001b[0;36mResponse.json\u001b[1;34m(self, **kwargs)\u001b[0m\n\u001b[0;32m    971\u001b[0m     \u001b[38;5;28;01mreturn\u001b[39;00m complexjson\u001b[38;5;241m.\u001b[39mloads(\u001b[38;5;28mself\u001b[39m\u001b[38;5;241m.\u001b[39mtext, \u001b[38;5;241m*\u001b[39m\u001b[38;5;241m*\u001b[39mkwargs)\n\u001b[0;32m    972\u001b[0m \u001b[38;5;28;01mexcept\u001b[39;00m JSONDecodeError \u001b[38;5;28;01mas\u001b[39;00m e:\n\u001b[0;32m    973\u001b[0m     \u001b[38;5;66;03m# Catch JSON-related errors and raise as requests.JSONDecodeError\u001b[39;00m\n\u001b[0;32m    974\u001b[0m     \u001b[38;5;66;03m# This aliases json.JSONDecodeError and simplejson.JSONDecodeError\u001b[39;00m\n\u001b[1;32m--> 975\u001b[0m     \u001b[38;5;28;01mraise\u001b[39;00m RequestsJSONDecodeError(e\u001b[38;5;241m.\u001b[39mmsg, e\u001b[38;5;241m.\u001b[39mdoc, e\u001b[38;5;241m.\u001b[39mpos)\n",
      "\u001b[1;31mJSONDecodeError\u001b[0m: Expecting value: line 1 column 1 (char 0)"
     ]
    }
   ],
   "source": [
    "audio = get_tts(\"Hello my name is Hamdan Mohammad\")"
   ]
  }
 ],
 "metadata": {
  "kernelspec": {
   "display_name": "Python 3",
   "language": "python",
   "name": "python3"
  },
  "language_info": {
   "codemirror_mode": {
    "name": "ipython",
    "version": 3
   },
   "file_extension": ".py",
   "mimetype": "text/x-python",
   "name": "python",
   "nbconvert_exporter": "python",
   "pygments_lexer": "ipython3",
   "version": "3.11.9"
  }
 },
 "nbformat": 4,
 "nbformat_minor": 2
}
